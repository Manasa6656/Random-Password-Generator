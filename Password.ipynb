{
 "cells": [
  {
   "cell_type": "code",
   "execution_count": 2,
   "id": "9e1d42ea",
   "metadata": {},
   "outputs": [
    {
     "name": "stdout",
     "output_type": "stream",
     "text": [
      "Enter the length of the password : 10\n",
      "Your password is &X_FpMv!kN\n"
     ]
    }
   ],
   "source": [
    "import random\n",
    "password = \"ABCDEFGHIJKLMNOPQRSTUVWXYZ1234567890abcdefghiklmnopqrstuvwxyz!@#$%^&*()_+}{:\"\n",
    "length_password = int(input(\"Enter the length of the password : \"))\n",
    "a = \"\".join(random.sample(password,length_password))\n",
    "print(f\"Your password is {a}\")"
   ]
  },
  {
   "cell_type": "code",
   "execution_count": null,
   "id": "b83653c5",
   "metadata": {},
   "outputs": [],
   "source": []
  },
  {
   "cell_type": "code",
   "execution_count": null,
   "id": "bf762f29",
   "metadata": {},
   "outputs": [],
   "source": []
  }
 ],
 "metadata": {
  "kernelspec": {
   "display_name": "Python 3 (ipykernel)",
   "language": "python",
   "name": "python3"
  },
  "language_info": {
   "codemirror_mode": {
    "name": "ipython",
    "version": 3
   },
   "file_extension": ".py",
   "mimetype": "text/x-python",
   "name": "python",
   "nbconvert_exporter": "python",
   "pygments_lexer": "ipython3",
   "version": "3.10.9"
  }
 },
 "nbformat": 4,
 "nbformat_minor": 5
}
